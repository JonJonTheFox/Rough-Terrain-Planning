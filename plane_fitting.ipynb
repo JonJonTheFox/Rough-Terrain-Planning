{
 "cells": [
  {
   "cell_type": "markdown",
   "metadata": {},
   "source": [
    "# 3D Point Cloud Processing and Plane Fitting\n",
    "This notebook demonstrates how to load 3D point cloud data, map it to corresponding class labels, and fit a plane to a set of 3D points using the least squares method."
   ]
  },
  {
   "cell_type": "code",
   "execution_count": 2,
   "metadata": {},
   "outputs": [],
   "source": [
    "# Uncomment if needed to install dependencies\n",
    "# !pip install open3d\n",
    "# !pip install pandas"
   ]
  },
  {
   "cell_type": "code",
   "execution_count": 5,
   "metadata": {},
   "outputs": [
    {
     "ename": "ModuleNotFoundError",
     "evalue": "No module named 'pandas'",
     "output_type": "error",
     "traceback": [
      "\u001b[0;31m---------------------------------------------------------------------------\u001b[0m",
      "\u001b[0;31mModuleNotFoundError\u001b[0m                       Traceback (most recent call last)",
      "Cell \u001b[0;32mIn[5], line 2\u001b[0m\n\u001b[1;32m      1\u001b[0m \u001b[39mimport\u001b[39;00m \u001b[39mnumpy\u001b[39;00m \u001b[39mas\u001b[39;00m \u001b[39mnp\u001b[39;00m\n\u001b[0;32m----> 2\u001b[0m \u001b[39mimport\u001b[39;00m \u001b[39mpandas\u001b[39;00m \u001b[39mas\u001b[39;00m \u001b[39mpd\u001b[39;00m\n\u001b[1;32m      3\u001b[0m \u001b[39mimport\u001b[39;00m \u001b[39mopen3d\u001b[39;00m \u001b[39mas\u001b[39;00m \u001b[39mo3d\u001b[39;00m\n",
      "\u001b[0;31mModuleNotFoundError\u001b[0m: No module named 'pandas'"
     ]
    }
   ],
   "source": [
    "import numpy as np\n",
    "import pandas as pd\n",
    "import open3d as o3d"
   ]
  },
  {
   "cell_type": "markdown",
   "metadata": {},
   "source": [
    "## Loading and Mapping 3D Point Cloud Data\n",
    "The following function loads LIDAR point cloud data along with corresponding labels and maps the labels to class names using metadata from a CSV file.\n"
   ]
  },
  {
   "cell_type": "code",
   "execution_count": 6,
   "metadata": {},
   "outputs": [],
   "source": [
    "def load_pointcloud_and_labels(prefix, lidar_dir, labels_dir, csv_file, lidar_suffix='vls128', label_suffix='goose'):\n",
    "    \"\"\"\n",
    "    Load LIDAR point cloud data, corresponding labels, and label metadata.\n",
    "\n",
    "    :param prefix: Filename prefix for the LIDAR and label files\n",
    "    :param lidar_dir: Directory where LIDAR data is stored\n",
    "    :param labels_dir: Directory where label data is stored\n",
    "    :param csv_file: CSV file containing label metadata\n",
    "    :param lidar_suffix: Suffix for LIDAR file\n",
    "    :param label_suffix: Suffix for label file\n",
    "    :return: Tuple containing LIDAR data, labels, and label metadata\n",
    "    \"\"\"\n",
    "    lidar_file = f\"{lidar_dir}/{prefix}_{lidar_suffix}.bin\"\n",
    "    label_file = f\"{labels_dir}/{prefix}_{label_suffix}.label\"\n",
    "\n",
    "    lidar_data = np.fromfile(lidar_file, dtype=np.float32).reshape(-1, 4)\n",
    "    \n",
    "    labels = np.fromfile(label_file, dtype=np.uint32)\n",
    "    \n",
    "    label_metadata = pd.read_csv(csv_file)\n",
    "    \n",
    "    return lidar_data, labels, label_metadata\n"
   ]
  },
  {
   "cell_type": "markdown",
   "metadata": {},
   "source": [
    "## Example Usage: Load a Specific Point Cloud and its Labels\n",
    "Here, we load a specific point cloud and its labels using the function defined above.\n"
   ]
  },
  {
   "cell_type": "code",
   "execution_count": 7,
   "metadata": {},
   "outputs": [],
   "source": [
    "# The following paths require the \"testing data\" to be at the same level as the script\n",
    "prefix = '2022-07-22_flight__0254_1658494839082804823'\n",
    "lidar_dir = 'goose_3d_val/lidar/val/2022-07-22_flight'\n",
    "labels_dir = 'goose_3d_val/labels/val/2022-07-22_flight'\n",
    "csv_file = 'goose_3d_val/goose_label_mapping.csv'\n",
    "\n",
    "lidar_data, labels, label_metadata = load_pointcloud_and_labels(prefix, lidar_dir, labels_dir, csv_file)\n"
   ]
  },
  {
   "cell_type": "markdown",
   "metadata": {},
   "source": [
    "## Visualizing Point Cloud Data with Open3D\n",
    "The following cell visualizes the LIDAR point cloud data using Open3D.\n"
   ]
  },
  {
   "cell_type": "code",
   "execution_count": 8,
   "metadata": {},
   "outputs": [],
   "source": [
    "import numpy as np\n",
    "import open3d as o3d\n",
    "\n",
    "def visualize_selected_points(lidar_data, labels, label_metadata, plane=None):\n",
    "    \"\"\"\n",
    "    Visualize the point cloud data with the given labels and an optional plane.\n",
    "    \n",
    "    :param lidar_data: The point cloud data (N x 4 array where last column is label).\n",
    "    :param labels: The label data corresponding to each point.\n",
    "    :param label_metadata: Metadata containing class names and colors.\n",
    "    :param plane: Optional. A tuple (a, b, c, d) representing the plane equation ax + by + cz + d = 0.\n",
    "    \"\"\"\n",
    "    # Convert label keys to RGB colors\n",
    "    label_to_color = dict(zip(label_metadata['label_key'], label_metadata['hex']))\n",
    "    \n",
    "    # Create colors array by mapping labels to their corresponding colors\n",
    "    colors = np.array([hex_to_rgb(label_to_color.get(label, '#000000')) for label in labels])\n",
    "\n",
    "    assert len(lidar_data) == len(colors), \"Number of points and colors do not match\"\n",
    "    \n",
    "    pcd = o3d.geometry.PointCloud()\n",
    "    pcd.points = o3d.utility.Vector3dVector(lidar_data[:, :3])\n",
    "    pcd.colors = o3d.utility.Vector3dVector(colors)\n",
    "\n",
    "    vis = o3d.visualization.Visualizer()\n",
    "    vis.create_window()\n",
    "    vis.add_geometry(pcd)\n",
    "    \n",
    "    if plane is not None:\n",
    "        plane_mesh = create_plane_mesh(plane, lidar_data)\n",
    "        vis.add_geometry(plane_mesh)\n",
    "    \n",
    "    vis.run()\n",
    "    vis.destroy_window()\n",
    "\n",
    "def hex_to_rgb(value):\n",
    "    \"\"\"\n",
    "    Convert a hex color string to an RGB tuple.\n",
    "    \n",
    "    :param value: Hex color string (e.g., '#ff0000').\n",
    "    :return: A tuple representing the RGB color normalized to [0, 1].\n",
    "    \"\"\"\n",
    "    value = value.lstrip('#')\n",
    "    lv = len(value)\n",
    "    return tuple(int(value[i:i + lv // 3], 16) / 255.0 for i in range(0, lv, lv // 3))\n",
    "\n",
    "def create_plane_mesh(plane, points): \n",
    "    \"\"\"\n",
    "    Create a mesh representing the fitted plane.\n",
    "    \n",
    "    :param plane: A tuple (a, b, c, d) representing the plane equation ax + by + cz + d = 0.\n",
    "    :param points: The point cloud data used to determine the extent of the plane visualization.\n",
    "    :return: An Open3D TriangleMesh object representing the plane.\n",
    "    \"\"\"\n",
    "    a, b, c, d = plane\n",
    "    \n",
    "    # Determine the bounding box of the points\n",
    "    min_bound = np.min(points[:, :3], axis=0)\n",
    "    max_bound = np.max(points[:, :3], axis=0)\n",
    "    \n",
    "    # Create a grid of points on the plane\n",
    "    xx, yy = np.meshgrid(np.linspace(min_bound[0], max_bound[0], 20),\n",
    "                         np.linspace(min_bound[1], max_bound[1], 20))\n",
    "    zz = (-a * xx - b * yy - d) / c\n",
    "    \n",
    "    # Create vertices for the mesh\n",
    "    vertices = np.stack((xx.flatten(), yy.flatten(), zz.flatten()), axis=-1)\n",
    "    \n",
    "    # Create the mesh object\n",
    "    mesh = o3d.geometry.TriangleMesh()\n",
    "    mesh.vertices = o3d.utility.Vector3dVector(vertices)\n",
    "    \n",
    "    # Define triangles for the mesh\n",
    "    triangles = []\n",
    "    for i in range(19):\n",
    "        for j in range(19):\n",
    "            triangles.append([i * 20 + j, i * 20 + j + 1, (i + 1) * 20 + j])\n",
    "            triangles.append([i * 20 + j + 1, (i + 1) * 20 + j + 1, (i + 1) * 20 + j])\n",
    "    mesh.triangles = o3d.utility.Vector3iVector(np.array(triangles))\n",
    "    \n",
    "    # Compute vertex normals for shading\n",
    "    mesh.compute_vertex_normals()\n",
    "    \n",
    "    # Set the color of the plane\n",
    "    mesh.paint_uniform_color([0.7, 0.8, 1.0])\n",
    "    \n",
    "    return mesh"
   ]
  },
  {
   "cell_type": "code",
   "execution_count": 9,
   "metadata": {},
   "outputs": [
    {
     "name": "stdout",
     "output_type": "stream",
     "text": [
      "\u001b[1;33m[Open3D WARNING] GLFW Error: Cocoa: Failed to find service port for display\u001b[0;m\n"
     ]
    }
   ],
   "source": [
    "visualize_selected_points(lidar_data, labels, label_metadata)"
   ]
  },
  {
   "cell_type": "markdown",
   "metadata": {},
   "source": [
    "## Mapping Labels to Class Names\n",
    "Using the label metadata, we can map each label key in the point cloud data to its corresponding class name.\n"
   ]
  },
  {
   "cell_type": "code",
   "execution_count": 1,
   "metadata": {},
   "outputs": [
    {
     "ename": "NameError",
     "evalue": "name 'label_metadata' is not defined",
     "output_type": "error",
     "traceback": [
      "\u001b[0;31m---------------------------------------------------------------------------\u001b[0m",
      "\u001b[0;31mNameError\u001b[0m                                 Traceback (most recent call last)",
      "Cell \u001b[0;32mIn[1], line 2\u001b[0m\n\u001b[1;32m      1\u001b[0m \u001b[39m# Create a dictionary to map label_key to class_name\u001b[39;00m\n\u001b[0;32m----> 2\u001b[0m label_to_class \u001b[39m=\u001b[39m \u001b[39mdict\u001b[39m(\u001b[39mzip\u001b[39m(label_metadata[\u001b[39m'\u001b[39m\u001b[39mlabel_key\u001b[39m\u001b[39m'\u001b[39m], label_metadata[\u001b[39m'\u001b[39m\u001b[39mclass_name\u001b[39m\u001b[39m'\u001b[39m]))\n\u001b[1;32m      4\u001b[0m \u001b[39m# Map each label to its class name\u001b[39;00m\n\u001b[1;32m      5\u001b[0m mapped_labels \u001b[39m=\u001b[39m [label_to_class\u001b[39m.\u001b[39mget(label, \u001b[39m'\u001b[39m\u001b[39mUnknown\u001b[39m\u001b[39m'\u001b[39m) \u001b[39mfor\u001b[39;00m label \u001b[39min\u001b[39;00m labels]\n",
      "\u001b[0;31mNameError\u001b[0m: name 'label_metadata' is not defined"
     ]
    }
   ],
   "source": [
    "# Create a dictionary to map label_key to class_name\n",
    "label_to_class = dict(zip(label_metadata['label_key'], label_metadata['class_name']))\n",
    "\n",
    "# Map each label to its class name\n",
    "mapped_labels = [label_to_class.get(label, 'Unknown') for label in labels]\n",
    "\n",
    "[print(f\"Point {i}: {lidar_data[i]} -> Class: {mapped_labels[i]}\") for i in range(5)]\n",
    "None"
   ]
  },
  {
   "cell_type": "markdown",
   "metadata": {},
   "source": [
    "## Calculate the distribution of the labels across selected points"
   ]
  },
  {
   "cell_type": "code",
   "execution_count": 11,
   "metadata": {},
   "outputs": [],
   "source": [
    "def calculate_label_distribution(labels, label_metadata):\n",
    "    \"\"\"\n",
    "    Calculate and print the distribution of labels in the point cloud data.\n",
    "    \n",
    "    :param labels: The label data corresponding to each point.\n",
    "    :param label_metadata: The label metadata DataFrame containing class names and label keys.\n",
    "    \"\"\"\n",
    "    # Calculate the distribution of labels in the provided data\n",
    "    label_counts = pd.Series(labels).value_counts().reset_index()\n",
    "    label_counts.columns = ['label_key', 'count']\n",
    "    \n",
    "    # Merge with label metadata to get the class names\n",
    "    label_distribution = pd.merge(label_counts, \n",
    "                                  label_metadata[['label_key', 'class_name']], \n",
    "                                  on='label_key', \n",
    "                                  how='left')\n",
    "    \n",
    "    # Sort the distribution by the most common labels\n",
    "    label_distribution = label_distribution[['label_key', 'class_name', 'count']].sort_values(by='count', ascending=False)\n",
    "    \n",
    "    return label_distribution"
   ]
  },
  {
   "cell_type": "code",
   "execution_count": 12,
   "metadata": {},
   "outputs": [
    {
     "name": "stdout",
     "output_type": "stream",
     "text": [
      "   label_key  class_name   count\n",
      "0         59       hedge  116771\n",
      "1         51  high_grass   25143\n",
      "2         27  tree_crown   15436\n",
      "3         23     asphalt   11837\n",
      "4         41       fence   11253\n",
      "5         50   low_grass   10751\n",
      "6         17        bush    6835\n",
      "7         31        soil    1551\n",
      "8    1179676         NaN    1325\n",
      "9    2752559         NaN    1101\n"
     ]
    }
   ],
   "source": [
    "print(calculate_label_distribution(labels, label_metadata).head(10))"
   ]
  },
  {
   "cell_type": "markdown",
   "metadata": {},
   "source": [
    "## Extract points and labels within a bounding box and visualize"
   ]
  },
  {
   "cell_type": "code",
   "execution_count": 14,
   "metadata": {},
   "outputs": [],
   "source": [
    "def extract_selected_points(lidar_data, labels, bbox_min, bbox_max):\n",
    "    \"\"\"\n",
    "    Extract points within a bounding box.\n",
    "    \n",
    "    :param lidar_data: The original LiDAR data (including x, y, z, intensity).\n",
    "    :param labels: The label data corresponding to each point.\n",
    "    :param bbox_min: The minimum x, y, z coordinates of the bounding box.\n",
    "    :param bbox_max: The maximum x, y, z coordinates of the bounding box.\n",
    "    :return: The selected points and corresponding labels.\n",
    "    \"\"\"\n",
    "    # Select points within the bounding box\n",
    "    selected_indices = np.where(\n",
    "        (lidar_data[:, 0] >= bbox_min[0]) & (lidar_data[:, 0] <= bbox_max[0]) &\n",
    "        (lidar_data[:, 1] >= bbox_min[1]) & (lidar_data[:, 1] <= bbox_max[1]) &\n",
    "        (lidar_data[:, 2] >= bbox_min[2]) & (lidar_data[:, 2] <= bbox_max[2])\n",
    "    )[0]\n",
    "    selected_points = lidar_data[selected_indices]\n",
    "    selected_labels = labels[selected_indices]\n",
    "\n",
    "    # Debugging: Print the number of selected points\n",
    "    print(f\"Number of points in the bounding box: {len(selected_points)}\")\n",
    "\n",
    "    return selected_points, selected_labels\n"
   ]
  },
  {
   "cell_type": "code",
   "execution_count": 15,
   "metadata": {},
   "outputs": [
    {
     "name": "stdout",
     "output_type": "stream",
     "text": [
      "Number of points in the bounding box: 3250\n"
     ]
    }
   ],
   "source": [
    "bbox_min = [2, 0, -4]  # Define the minimum x, y, z coordinates of the bounding box\n",
    "bbox_max = [8, 6, 0]  # Define the maximum x, y, z coordinates of the bounding box\n",
    "\n",
    "selected_points, selected_labels = extract_selected_points(lidar_data, labels, bbox_min, bbox_max)"
   ]
  },
  {
   "cell_type": "code",
   "execution_count": 16,
   "metadata": {},
   "outputs": [
    {
     "name": "stdout",
     "output_type": "stream",
     "text": [
      "\u001b[1;33m[Open3D WARNING] GLFW Error: Cocoa: Failed to find service port for display\u001b[0;m\n"
     ]
    }
   ],
   "source": [
    "visualize_selected_points(selected_points, selected_labels, label_metadata)"
   ]
  },
  {
   "cell_type": "markdown",
   "metadata": {},
   "source": [
    "## Filtering, Plane Fitting, and Visualization\n",
    "\n",
    "- **Filter**: Retain only the points with specific labels (e.g., \"Low grass\").\n",
    "- **Fit**: Apply a plane fitting algorithm to the filtered points.\n",
    "- **Visualize**: Display the filtered points and the fitted plane using Open3D.\n"
   ]
  },
  {
   "cell_type": "code",
   "execution_count": 17,
   "metadata": {},
   "outputs": [
    {
     "data": {
      "text/html": [
       "<div>\n",
       "<style scoped>\n",
       "    .dataframe tbody tr th:only-of-type {\n",
       "        vertical-align: middle;\n",
       "    }\n",
       "\n",
       "    .dataframe tbody tr th {\n",
       "        vertical-align: top;\n",
       "    }\n",
       "\n",
       "    .dataframe thead th {\n",
       "        text-align: right;\n",
       "    }\n",
       "</style>\n",
       "<table border=\"1\" class=\"dataframe\">\n",
       "  <thead>\n",
       "    <tr style=\"text-align: right;\">\n",
       "      <th></th>\n",
       "      <th>label_key</th>\n",
       "      <th>class_name</th>\n",
       "      <th>count</th>\n",
       "    </tr>\n",
       "  </thead>\n",
       "  <tbody>\n",
       "    <tr>\n",
       "      <th>0</th>\n",
       "      <td>59</td>\n",
       "      <td>hedge</td>\n",
       "      <td>1363</td>\n",
       "    </tr>\n",
       "    <tr>\n",
       "      <th>1</th>\n",
       "      <td>50</td>\n",
       "      <td>low_grass</td>\n",
       "      <td>1069</td>\n",
       "    </tr>\n",
       "    <tr>\n",
       "      <th>2</th>\n",
       "      <td>51</td>\n",
       "      <td>high_grass</td>\n",
       "      <td>818</td>\n",
       "    </tr>\n",
       "  </tbody>\n",
       "</table>\n",
       "</div>"
      ],
      "text/plain": [
       "   label_key  class_name  count\n",
       "0         59       hedge   1363\n",
       "1         50   low_grass   1069\n",
       "2         51  high_grass    818"
      ]
     },
     "execution_count": 17,
     "metadata": {},
     "output_type": "execute_result"
    }
   ],
   "source": [
    "calculate_label_distribution(selected_labels, label_metadata)"
   ]
  },
  {
   "cell_type": "code",
   "execution_count": 19,
   "metadata": {},
   "outputs": [
    {
     "name": "stdout",
     "output_type": "stream",
     "text": [
      "Labels to keep: {50}\n",
      "Original number of points: 3250\n",
      "Number of points after filtering: 1069\n",
      "Unique labels in filtered data: [50]\n",
      "Original number of points: 3250\n",
      "Filtered number of points: 1069\n",
      "Filtered labels: [50]\n"
     ]
    }
   ],
   "source": [
    "def filter_labels(lidar_data, labels, keep_labels):\n",
    "    \"\"\"\n",
    "    Filter out all points from the LiDAR data whose labels are not in the keep_labels list.\n",
    "    \n",
    "    :param lidar_data: The original LiDAR data (N x 4 array where last column is label).\n",
    "    :param labels: The label data corresponding to each point.\n",
    "    :param keep_labels: List of labels to keep.\n",
    "    \n",
    "    :return: Filtered lidar_data and labels containing only the points with labels in keep_labels.\n",
    "    \"\"\"\n",
    "    keep_labels_set = set(keep_labels)\n",
    "    \n",
    "    is_in_keep_labels = np.isin(labels, list(keep_labels_set))\n",
    "    \n",
    "    filtered_lidar_data = lidar_data[is_in_keep_labels]\n",
    "    filtered_labels = labels[is_in_keep_labels]\n",
    "\n",
    "    # Debugging: Print label information\n",
    "    print(f\"Labels to keep: {keep_labels_set}\")\n",
    "    print(f\"Original number of points: {len(lidar_data)}\")\n",
    "    print(f\"Number of points after filtering: {len(filtered_lidar_data)}\")\n",
    "    print(f\"Unique labels in filtered data: {np.unique(filtered_labels)}\")\n",
    "\n",
    "    return filtered_lidar_data, filtered_labels\n",
    "\n",
    "keep_labels = [50]  # 50 = Low grass\n",
    "\n",
    "filtered_points, filtered_labels = filter_labels(selected_points, selected_labels, keep_labels)\n",
    "\n",
    "print(f\"Original number of points: {len(selected_points)}\")\n",
    "print(f\"Filtered number of points: {len(filtered_points)}\")\n",
    "print(f\"Filtered labels: {np.unique(filtered_labels)}\")\n"
   ]
  },
  {
   "cell_type": "code",
   "execution_count": 20,
   "metadata": {},
   "outputs": [
    {
     "name": "stdout",
     "output_type": "stream",
     "text": [
      "\u001b[1;33m[Open3D WARNING] GLFW Error: Cocoa: Failed to find service port for display\u001b[0;m\n"
     ]
    }
   ],
   "source": [
    "#Plane-like structure\n",
    "visualize_selected_points(filtered_points, filtered_labels, label_metadata)"
   ]
  },
  {
   "cell_type": "code",
   "execution_count": 11,
   "metadata": {},
   "outputs": [],
   "source": [
    "def fit_plane_least_squares(points):\n",
    "    \"\"\"\n",
    "    Fit a plane to a set of 3D points using the least squares method.\n",
    "    \n",
    "    :param points: numpy array of shape (n, 3) where n is the number of points\n",
    "    :return: numpy array of shape (4,) representing the plane equation coefficients [a, b, c, d]\n",
    "             where ax + by + cz + d = 0\n",
    "    \"\"\"\n",
    "    # Ensure we have at least 3 points\n",
    "    if points.shape[0] < 3:\n",
    "        raise ValueError(\"At least 3 points are required to fit a plane\")\n",
    "\n",
    "    # Calculate the centroid of the points\n",
    "    centroid = np.mean(points, axis=0)\n",
    "\n",
    "    # Center the points by subtracting the centroid\n",
    "    centered_points = points - centroid\n",
    "\n",
    "    cov_matrix = np.cov(centered_points.T)\n",
    "\n",
    "    eigenvalues, eigenvectors = np.linalg.eig(cov_matrix)\n",
    "\n",
    "    # The normal vector of the plane is the eigenvector corresponding to the smallest eigenvalue\n",
    "    normal_vector = eigenvectors[:, np.argmin(eigenvalues)]\n",
    "\n",
    "    # Ensure the normal vector points \"upward\"\n",
    "    if normal_vector[2] < 0:\n",
    "        normal_vector = -normal_vector\n",
    "\n",
    "    # Calculate the d coefficient\n",
    "    d = -np.dot(normal_vector, centroid)\n",
    "\n",
    "    # Return the coefficients of the plane equation ax + by + cz + d = 0\n",
    "    return np.append(normal_vector, d)\n"
   ]
  },
  {
   "cell_type": "code",
   "execution_count": 41,
   "metadata": {},
   "outputs": [
    {
     "name": "stdout",
     "output_type": "stream",
     "text": [
      "Fitted plane coefficients: [-0.02143866 -0.07533306  0.99692794  2.22800425]\n"
     ]
    }
   ],
   "source": [
    "plane = fit_plane_least_squares(filtered_points[:, :3])\n",
    "print(f\"Fitted plane coefficients: {plane}\")"
   ]
  },
  {
   "cell_type": "code",
   "execution_count": 79,
   "metadata": {},
   "outputs": [],
   "source": [
    "visualize_selected_points(filtered_points, filtered_labels, label_metadata, plane)"
   ]
  },
  {
   "cell_type": "code",
   "execution_count": null,
   "metadata": {},
   "outputs": [],
   "source": []
  }
 ],
 "metadata": {
  "kernelspec": {
   "display_name": "Python 3",
   "language": "python",
   "name": "python3"
  },
  "language_info": {
   "codemirror_mode": {
    "name": "ipython",
    "version": 3
   },
   "file_extension": ".py",
   "mimetype": "text/x-python",
   "name": "python",
   "nbconvert_exporter": "python",
   "pygments_lexer": "ipython3",
   "version": "3.10.13"
  },
  "vscode": {
   "interpreter": {
    "hash": "f0a1422672f9895dfabd55cbe305bf57ce183741c644d5e12264189a4d51eca7"
   }
  }
 },
 "nbformat": 4,
 "nbformat_minor": 2
}
